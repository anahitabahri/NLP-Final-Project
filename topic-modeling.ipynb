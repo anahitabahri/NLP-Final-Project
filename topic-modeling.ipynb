{
 "cells": [
  {
   "cell_type": "code",
   "execution_count": 1,
   "metadata": {
    "collapsed": true
   },
   "outputs": [],
   "source": [
    "from nltk.corpus import stopwords \n",
    "from nltk.stem.wordnet import WordNetLemmatizer\n",
    "import string\n",
    "import pandas as pd\n",
    "\n",
    "import gensim\n",
    "from gensim import corpora"
   ]
  },
  {
   "cell_type": "code",
   "execution_count": 2,
   "metadata": {},
   "outputs": [],
   "source": [
    "data = pd.read_csv(\"../Data/data.csv\")"
   ]
  },
  {
   "cell_type": "code",
   "execution_count": 3,
   "metadata": {
    "collapsed": true
   },
   "outputs": [],
   "source": [
    "data['line'] = data['line'].str.lower()\n",
    "documents = data['line'].tolist()"
   ]
  },
  {
   "cell_type": "code",
   "execution_count": 4,
   "metadata": {
    "collapsed": true
   },
   "outputs": [],
   "source": [
    "stop = set(stopwords.words('english'))\n",
    "exclude = set(string.punctuation) \n",
    "lemma = WordNetLemmatizer()"
   ]
  },
  {
   "cell_type": "code",
   "execution_count": 5,
   "metadata": {
    "collapsed": true
   },
   "outputs": [],
   "source": [
    "def clean(doc):\n",
    "    stop_free = \" \".join([i for i in doc.lower().split() if i not in stop])\n",
    "    punc_free = \" \".join(ch for ch in stop_free if ch not in exclude)\n",
    "    normalized = \" \".join(lemma.lemmatize(word) for word in punc_free.split())\n",
    "    return normalized"
   ]
  },
  {
   "cell_type": "code",
   "execution_count": 6,
   "metadata": {
    "collapsed": true
   },
   "outputs": [],
   "source": [
    "doc_clean = [clean(doc).split() for doc in documents]   "
   ]
  },
  {
   "cell_type": "code",
   "execution_count": 7,
   "metadata": {
    "collapsed": true
   },
   "outputs": [],
   "source": [
    "# term dictionary of courpus\n",
    "dictionary = corpora.Dictionary(doc_clean)\n",
    "\n",
    "# convert corpus into Document Term Matrix\n",
    "doc_term_matrix = [dictionary.doc2bow(doc) for doc in doc_clean]"
   ]
  },
  {
   "cell_type": "code",
   "execution_count": 8,
   "metadata": {
    "collapsed": true
   },
   "outputs": [],
   "source": [
    "LDA = gensim.models.ldamodel.LdaModel"
   ]
  },
  {
   "cell_type": "code",
   "execution_count": 9,
   "metadata": {
    "collapsed": true
   },
   "outputs": [],
   "source": [
    "ldamodel = LDA(doc_term_matrix, num_topics=5, id2word = dictionary, passes=50)"
   ]
  },
  {
   "cell_type": "code",
   "execution_count": 12,
   "metadata": {},
   "outputs": [
    {
     "name": "stdout",
     "output_type": "stream",
     "text": [
      "[(0, '0.037*\"it\" + 0.036*\"know\" + 0.016*\"you\" + 0.015*\"im\" + 0.015*\"him\"'), (1, '0.019*\"get\" + 0.016*\"back\" + 0.016*\"right\" + 0.016*\"one\" + 0.015*\"it\"'), (2, '0.021*\"dead\" + 0.019*\"here\" + 0.016*\"dragon\" + 0.015*\"saw\" + 0.013*\"house\"'), (3, '0.040*\"you\" + 0.029*\"lord\" + 0.027*\"king\" + 0.023*\"queen\" + 0.023*\"come\"'), (4, '0.052*\"me\" + 0.021*\"want\" + 0.019*\"no\" + 0.019*\"dont\" + 0.013*\"see\"')]\n"
     ]
    }
   ],
   "source": [
    "print(ldamodel.print_topics(num_topics=5, num_words=5))"
   ]
  },
  {
   "cell_type": "markdown",
   "metadata": {},
   "source": [
    "'0.037*\"it\" \n",
    "0.036*\"know\" \n",
    "0.016*\"you\" \n",
    "0.015*\"im\" \n",
    "0.015*\"him\"'\n",
    "\n",
    "'0.019*\"get\" \n",
    "0.016*\"back\" \n",
    "0.016*\"right\" \n",
    "0.016*\"one\" \n",
    "0.015*\"it\"'\n",
    "\n",
    "'0.021*\"dead\" \n",
    "0.019*\"here\" \n",
    "0.016*\"dragon\" \n",
    "0.015*\"saw\" \n",
    "0.013*\"house\"'\n",
    "\n",
    "'0.040*\"you\" \n",
    "0.029*\"lord\" \n",
    "0.027*\"king\" \n",
    "0.023*\"queen\" \n",
    "0.023*\"come\"')\n",
    "\n",
    "'0.052*\"me\" \n",
    "0.021*\"want\" \n",
    "0.019*\"no\"  \n",
    "0.019*\"dont\"\n",
    "0.013*\"see\"')"
   ]
  },
  {
   "cell_type": "code",
   "execution_count": null,
   "metadata": {
    "collapsed": true
   },
   "outputs": [],
   "source": []
  }
 ],
 "metadata": {
  "kernelspec": {
   "display_name": "Python 3",
   "language": "python",
   "name": "python3"
  },
  "language_info": {
   "codemirror_mode": {
    "name": "ipython",
    "version": 3
   },
   "file_extension": ".py",
   "mimetype": "text/x-python",
   "name": "python",
   "nbconvert_exporter": "python",
   "pygments_lexer": "ipython3",
   "version": "3.6.1"
  }
 },
 "nbformat": 4,
 "nbformat_minor": 2
}
