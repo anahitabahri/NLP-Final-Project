{
 "cells": [
  {
   "cell_type": "code",
   "execution_count": 1,
   "metadata": {},
   "outputs": [
    {
     "name": "stderr",
     "output_type": "stream",
     "text": [
      "/anaconda/lib/python3.6/site-packages/statsmodels/compat/pandas.py:56: FutureWarning: The pandas.core.datetools module is deprecated and will be removed in a future version. Please use the pandas.tseries module instead.\n",
      "  from pandas.core import datetools\n",
      "/anaconda/lib/python3.6/site-packages/sklearn/cross_validation.py:44: DeprecationWarning: This module was deprecated in version 0.18 in favor of the model_selection module into which all the refactored classes and functions are moved. Also note that the interface of the new CV iterators are different from that of this module. This module will be removed in 0.20.\n",
      "  \"This module will be removed in 0.20.\", DeprecationWarning)\n"
     ]
    }
   ],
   "source": [
    "%matplotlib inline\n",
    "\n",
    "import numpy as np\n",
    "import pandas as pd\n",
    "import matplotlib.pyplot as plt\n",
    "import seaborn as sns\n",
    "sns.set_style(\"darkgrid\")\n",
    "import time\n",
    "import glob\n",
    "import datetime\n",
    "import statsmodels.formula.api as smf\n",
    "import statsmodels.api as sm\n",
    "\n",
    "from sklearn.feature_extraction.text import CountVectorizer, TfidfVectorizer\n",
    "from sklearn.ensemble import RandomForestClassifier\n",
    "from sklearn.cross_validation import cross_val_score"
   ]
  },
  {
   "cell_type": "code",
   "execution_count": 2,
   "metadata": {
    "collapsed": true
   },
   "outputs": [],
   "source": [
    "data = pd.read_csv(\"../Data/data.csv\")"
   ]
  },
  {
   "cell_type": "code",
   "execution_count": 3,
   "metadata": {
    "collapsed": true
   },
   "outputs": [],
   "source": [
    "data['g'] = data['gender'].str.contains('female')"
   ]
  },
  {
   "cell_type": "code",
   "execution_count": 4,
   "metadata": {
    "collapsed": true
   },
   "outputs": [],
   "source": [
    "texts = data['line'].fillna('')\n",
    "\n",
    "vectorizer = CountVectorizer(max_features = 1000,\n",
    "                             ngram_range=[2, 3], \n",
    "                             stop_words='english',\n",
    "                             binary=False)"
   ]
  },
  {
   "cell_type": "code",
   "execution_count": 5,
   "metadata": {},
   "outputs": [
    {
     "name": "stdout",
     "output_type": "stream",
     "text": [
      "CV AUC [ 0.51712971  0.51577926  0.52175943], Average AUC 0.5182228010501405\n"
     ]
    }
   ],
   "source": [
    "model = RandomForestClassifier(n_estimators = 50)\n",
    "\n",
    "# Use `fit` to learn the vocabulary of the  text\n",
    "vectorizer.fit(texts)\n",
    "\n",
    "# Use `tranform` to generate the sample X word matrix - \n",
    "# one column per feature (word or n-grams)\n",
    "X = vectorizer.transform(texts).todense()\n",
    "y = data['g']\n",
    "\n",
    "scores = cross_val_score(model, X, y, scoring='roc_auc')\n",
    "print('CV AUC {}, Average AUC {}'.format(scores, scores.mean()))"
   ]
  },
  {
   "cell_type": "code",
   "execution_count": 6,
   "metadata": {},
   "outputs": [
    {
     "name": "stdout",
     "output_type": "stream",
     "text": [
      "             Features  Importance Score\n",
      "362      king landing          0.008629\n",
      "639       night watch          0.008590\n",
      "581    master kraznys          0.005926\n",
      "240         gift gods          0.005917\n",
      "509    lord commander          0.005563\n",
      "505      lord baelish          0.005335\n",
      "163          don know          0.005024\n",
      "907           ve seen          0.004901\n",
      "442       little dove          0.004794\n",
      "181          don want          0.004776\n",
      "774    seven kingdoms          0.004447\n",
      "15         arya stark          0.004340\n",
      "44          bran wake          0.004202\n",
      "791          son king          0.004122\n",
      "17          aunt lysa          0.004080\n",
      "328          jon snow          0.003998\n",
      "62       castle black          0.003880\n",
      "821         sun stars          0.003725\n",
      "432       like father          0.003597\n",
      "140         didn want          0.003524\n",
      "364        king north          0.003524\n",
      "523        lord light          0.003267\n",
      "319       iron throne          0.003253\n",
      "754     ser barristan          0.003252\n",
      "121          did know          0.003175\n",
      "788        slaver bay          0.003070\n",
      "897            ve got          0.002984\n",
      "534        lord stark          0.002953\n",
      "305           hot pie          0.002951\n",
      "56   brothers sisters          0.002928\n",
      "409        lady sansa          0.002878\n",
      "176         don think          0.002830\n",
      "932        want leave          0.002778\n",
      "884   tywin lannister          0.002756\n",
      "486           ll tell          0.002749\n",
      "376          know did          0.002741\n",
      "156          don care          0.002741\n",
      "860          think ll          0.002716\n",
      "615     mother father          0.002694\n",
      "411   lady winterfell          0.002694\n",
      "446       little lord          0.002647\n",
      "48      brienne tarth          0.002615\n",
      "621         ned stark          0.002578\n",
      "46          brave men          0.002574\n",
      "264          good man          0.002571\n",
      "722        robb stark          0.002505\n",
      "171          don need          0.002474\n",
      "757         ser davos          0.002473\n",
      "321   jaime lannister          0.002463\n",
      "541   lord winterfell          0.002432\n"
     ]
    }
   ],
   "source": [
    "model.fit(X, y)\n",
    "feature_importances = pd.DataFrame({'Features' : vectorizer.get_feature_names(), \n",
    "                                    'Importance Score': model.feature_importances_})\n",
    "print( feature_importances.sort_values('Importance Score', ascending=False).head(50))"
   ]
  },
  {
   "cell_type": "code",
   "execution_count": null,
   "metadata": {
    "collapsed": true
   },
   "outputs": [],
   "source": []
  }
 ],
 "metadata": {
  "kernelspec": {
   "display_name": "Python 3",
   "language": "python",
   "name": "python3"
  },
  "language_info": {
   "codemirror_mode": {
    "name": "ipython",
    "version": 3
   },
   "file_extension": ".py",
   "mimetype": "text/x-python",
   "name": "python",
   "nbconvert_exporter": "python",
   "pygments_lexer": "ipython3",
   "version": "3.6.1"
  }
 },
 "nbformat": 4,
 "nbformat_minor": 2
}
