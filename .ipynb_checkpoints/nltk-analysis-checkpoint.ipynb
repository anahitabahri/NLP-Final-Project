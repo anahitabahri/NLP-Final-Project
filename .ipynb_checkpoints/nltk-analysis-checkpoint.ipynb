{
 "cells": [
  {
   "cell_type": "code",
   "execution_count": 1,
   "metadata": {
    "collapsed": true
   },
   "outputs": [],
   "source": [
    "import pandas as pd\n",
    "import numpy as np"
   ]
  },
  {
   "cell_type": "code",
   "execution_count": 2,
   "metadata": {},
   "outputs": [
    {
     "data": {
      "text/html": [
       "<div>\n",
       "<style>\n",
       "    .dataframe thead tr:only-child th {\n",
       "        text-align: right;\n",
       "    }\n",
       "\n",
       "    .dataframe thead th {\n",
       "        text-align: left;\n",
       "    }\n",
       "\n",
       "    .dataframe tbody tr th {\n",
       "        vertical-align: top;\n",
       "    }\n",
       "</style>\n",
       "<table border=\"1\" class=\"dataframe\">\n",
       "  <thead>\n",
       "    <tr style=\"text-align: right;\">\n",
       "      <th></th>\n",
       "      <th>line_no</th>\n",
       "      <th>character</th>\n",
       "      <th>line</th>\n",
       "      <th>gender</th>\n",
       "      <th>n_words</th>\n",
       "      <th>season</th>\n",
       "      <th>episode</th>\n",
       "      <th>season_episode</th>\n",
       "      <th>episode_no</th>\n",
       "    </tr>\n",
       "  </thead>\n",
       "  <tbody>\n",
       "    <tr>\n",
       "      <th>0</th>\n",
       "      <td>1</td>\n",
       "      <td>ROYCE</td>\n",
       "      <td>What do you expect? They're savages. One lot s...</td>\n",
       "      <td>male</td>\n",
       "      <td>24</td>\n",
       "      <td>1</td>\n",
       "      <td>1</td>\n",
       "      <td>s01e01</td>\n",
       "      <td>1</td>\n",
       "    </tr>\n",
       "    <tr>\n",
       "      <th>1</th>\n",
       "      <td>2</td>\n",
       "      <td>WILL</td>\n",
       "      <td>I've never seen wildlings do a thing like this...</td>\n",
       "      <td>male</td>\n",
       "      <td>21</td>\n",
       "      <td>1</td>\n",
       "      <td>1</td>\n",
       "      <td>s01e01</td>\n",
       "      <td>1</td>\n",
       "    </tr>\n",
       "    <tr>\n",
       "      <th>2</th>\n",
       "      <td>3</td>\n",
       "      <td>ROYCE</td>\n",
       "      <td>How close did you get?</td>\n",
       "      <td>male</td>\n",
       "      <td>5</td>\n",
       "      <td>1</td>\n",
       "      <td>1</td>\n",
       "      <td>s01e01</td>\n",
       "      <td>1</td>\n",
       "    </tr>\n",
       "    <tr>\n",
       "      <th>3</th>\n",
       "      <td>4</td>\n",
       "      <td>WILL</td>\n",
       "      <td>Close as any man would.</td>\n",
       "      <td>male</td>\n",
       "      <td>5</td>\n",
       "      <td>1</td>\n",
       "      <td>1</td>\n",
       "      <td>s01e01</td>\n",
       "      <td>1</td>\n",
       "    </tr>\n",
       "    <tr>\n",
       "      <th>4</th>\n",
       "      <td>5</td>\n",
       "      <td>GARED</td>\n",
       "      <td>We should head back to the wall.</td>\n",
       "      <td>male</td>\n",
       "      <td>7</td>\n",
       "      <td>1</td>\n",
       "      <td>1</td>\n",
       "      <td>s01e01</td>\n",
       "      <td>1</td>\n",
       "    </tr>\n",
       "  </tbody>\n",
       "</table>\n",
       "</div>"
      ],
      "text/plain": [
       "   line_no character                                               line  \\\n",
       "0        1     ROYCE  What do you expect? They're savages. One lot s...   \n",
       "1        2      WILL  I've never seen wildlings do a thing like this...   \n",
       "2        3     ROYCE                             How close did you get?   \n",
       "3        4      WILL                            Close as any man would.   \n",
       "4        5     GARED                   We should head back to the wall.   \n",
       "\n",
       "  gender  n_words  season  episode season_episode  episode_no  \n",
       "0   male       24       1        1         s01e01           1  \n",
       "1   male       21       1        1         s01e01           1  \n",
       "2   male        5       1        1         s01e01           1  \n",
       "3   male        5       1        1         s01e01           1  \n",
       "4   male        7       1        1         s01e01           1  "
      ]
     },
     "execution_count": 2,
     "metadata": {},
     "output_type": "execute_result"
    }
   ],
   "source": [
    "data = pd.read_csv(\"../Data/data.csv\")\n",
    "data.head()"
   ]
  },
  {
   "cell_type": "markdown",
   "metadata": {},
   "source": [
    "# Lexical Diversity by Gender"
   ]
  },
  {
   "cell_type": "code",
   "execution_count": 3,
   "metadata": {},
   "outputs": [
    {
     "data": {
      "text/html": [
       "<div>\n",
       "<style>\n",
       "    .dataframe thead tr:only-child th {\n",
       "        text-align: right;\n",
       "    }\n",
       "\n",
       "    .dataframe thead th {\n",
       "        text-align: left;\n",
       "    }\n",
       "\n",
       "    .dataframe tbody tr th {\n",
       "        vertical-align: top;\n",
       "    }\n",
       "</style>\n",
       "<table border=\"1\" class=\"dataframe\">\n",
       "  <thead>\n",
       "    <tr style=\"text-align: right;\">\n",
       "      <th></th>\n",
       "      <th>gender</th>\n",
       "      <th>line</th>\n",
       "    </tr>\n",
       "  </thead>\n",
       "  <tbody>\n",
       "    <tr>\n",
       "      <th>0</th>\n",
       "      <td>female</td>\n",
       "      <td>Fine work, as always. Well done.  Thank you. ...</td>\n",
       "    </tr>\n",
       "    <tr>\n",
       "      <th>1</th>\n",
       "      <td>male</td>\n",
       "      <td>What do you expect? They're savages. One lot s...</td>\n",
       "    </tr>\n",
       "  </tbody>\n",
       "</table>\n",
       "</div>"
      ],
      "text/plain": [
       "   gender                                               line\n",
       "0  female   Fine work, as always. Well done.  Thank you. ...\n",
       "1    male  What do you expect? They're savages. One lot s..."
      ]
     },
     "execution_count": 3,
     "metadata": {},
     "output_type": "execute_result"
    }
   ],
   "source": [
    "gender_lines = data.groupby(['gender'])['line'].apply(lambda x: ' '.join(x)).reset_index()\n",
    "gender_lines.head()"
   ]
  },
  {
   "cell_type": "code",
   "execution_count": 4,
   "metadata": {},
   "outputs": [
    {
     "data": {
      "text/html": [
       "<div>\n",
       "<style>\n",
       "    .dataframe thead tr:only-child th {\n",
       "        text-align: right;\n",
       "    }\n",
       "\n",
       "    .dataframe thead th {\n",
       "        text-align: left;\n",
       "    }\n",
       "\n",
       "    .dataframe tbody tr th {\n",
       "        vertical-align: top;\n",
       "    }\n",
       "</style>\n",
       "<table border=\"1\" class=\"dataframe\">\n",
       "  <thead>\n",
       "    <tr style=\"text-align: right;\">\n",
       "      <th></th>\n",
       "      <th>gender</th>\n",
       "      <th>line</th>\n",
       "    </tr>\n",
       "  </thead>\n",
       "  <tbody>\n",
       "    <tr>\n",
       "      <th>0</th>\n",
       "      <td>female</td>\n",
       "      <td>fine work, as always. well done.  thank you. ...</td>\n",
       "    </tr>\n",
       "    <tr>\n",
       "      <th>1</th>\n",
       "      <td>male</td>\n",
       "      <td>what do you expect? they're savages. one lot s...</td>\n",
       "    </tr>\n",
       "  </tbody>\n",
       "</table>\n",
       "</div>"
      ],
      "text/plain": [
       "   gender                                               line\n",
       "0  female   fine work, as always. well done.  thank you. ...\n",
       "1    male  what do you expect? they're savages. one lot s..."
      ]
     },
     "execution_count": 4,
     "metadata": {},
     "output_type": "execute_result"
    }
   ],
   "source": [
    "gender_lines['line'] = gender_lines['line'].str.lower()\n",
    "gender_lines.head()"
   ]
  },
  {
   "cell_type": "code",
   "execution_count": 5,
   "metadata": {
    "collapsed": true
   },
   "outputs": [],
   "source": [
    "import nltk\n",
    "from nltk.tokenize import word_tokenize"
   ]
  },
  {
   "cell_type": "code",
   "execution_count": 6,
   "metadata": {
    "collapsed": true
   },
   "outputs": [],
   "source": [
    "female = gender_lines[(gender_lines.gender == 'female')]\n",
    "male = gender_lines[(gender_lines.gender == 'male')]"
   ]
  },
  {
   "cell_type": "code",
   "execution_count": 7,
   "metadata": {},
   "outputs": [
    {
     "name": "stderr",
     "output_type": "stream",
     "text": [
      "/anaconda/lib/python3.6/site-packages/ipykernel_launcher.py:1: SettingWithCopyWarning: \n",
      "A value is trying to be set on a copy of a slice from a DataFrame.\n",
      "Try using .loc[row_indexer,col_indexer] = value instead\n",
      "\n",
      "See the caveats in the documentation: http://pandas.pydata.org/pandas-docs/stable/indexing.html#indexing-view-versus-copy\n",
      "  \"\"\"Entry point for launching an IPython kernel.\n",
      "/anaconda/lib/python3.6/site-packages/ipykernel_launcher.py:2: SettingWithCopyWarning: \n",
      "A value is trying to be set on a copy of a slice from a DataFrame.\n",
      "Try using .loc[row_indexer,col_indexer] = value instead\n",
      "\n",
      "See the caveats in the documentation: http://pandas.pydata.org/pandas-docs/stable/indexing.html#indexing-view-versus-copy\n",
      "  \n"
     ]
    }
   ],
   "source": [
    "female['tokenized_sents'] = female.apply(lambda row: nltk.word_tokenize(row['line']), axis=1)\n",
    "male['tokenized_sents'] = male.apply(lambda row: nltk.word_tokenize(row['line']), axis=1)"
   ]
  },
  {
   "cell_type": "code",
   "execution_count": 8,
   "metadata": {},
   "outputs": [
    {
     "data": {
      "text/plain": [
       "['fine', 'work', ',', 'as', 'always', '.', 'well', 'done', '.', 'thank']"
      ]
     },
     "execution_count": 8,
     "metadata": {},
     "output_type": "execute_result"
    }
   ],
   "source": [
    "f_words = female['tokenized_sents'].tolist()\n",
    "f_words = [item for sublist in f_words for item in sublist]\n",
    "f_words[0:10]"
   ]
  },
  {
   "cell_type": "code",
   "execution_count": 9,
   "metadata": {},
   "outputs": [
    {
     "name": "stdout",
     "output_type": "stream",
     "text": [
      "Number of words:  102887\n",
      "Number of distinctive words:  5215\n",
      "Lexical diversity:  0.05\n"
     ]
    }
   ],
   "source": [
    "n_words = len(f_words)\n",
    "n_distinctive_words = len(set(f_words))\n",
    "lexical_diversity = 1.0 * n_distinctive_words / n_words\n",
    "print(\"Number of words: \", n_words)\n",
    "print(\"Number of distinctive words: \", n_distinctive_words)\n",
    "print(\"Lexical diversity: \", round(lexical_diversity,2))"
   ]
  },
  {
   "cell_type": "code",
   "execution_count": 10,
   "metadata": {},
   "outputs": [
    {
     "data": {
      "text/plain": [
       "['what', 'do', 'you', 'expect', '?', 'they', \"'re\", 'savages', '.', 'one']"
      ]
     },
     "execution_count": 10,
     "metadata": {},
     "output_type": "execute_result"
    }
   ],
   "source": [
    "m_words = male['tokenized_sents'].tolist()\n",
    "m_words = [item for items in m_words for item in items]\n",
    "m_words[0:10]"
   ]
  },
  {
   "cell_type": "code",
   "execution_count": 11,
   "metadata": {},
   "outputs": [
    {
     "name": "stdout",
     "output_type": "stream",
     "text": [
      "Number of words:  250631\n",
      "Number of distinctive words:  8640\n",
      "Lexical diversity:  0.03\n"
     ]
    }
   ],
   "source": [
    "n_words = len(m_words)\n",
    "n_distinctive_words = len(set(m_words))\n",
    "lexical_diversity = 1.0 * n_distinctive_words / n_words\n",
    "print(\"Number of words: \", n_words)\n",
    "print(\"Number of distinctive words: \", n_distinctive_words)\n",
    "print(\"Lexical diversity: \", round(lexical_diversity,2))"
   ]
  },
  {
   "cell_type": "markdown",
   "metadata": {},
   "source": [
    "# Lexical Diversity by Characters"
   ]
  },
  {
   "cell_type": "code",
   "execution_count": 12,
   "metadata": {},
   "outputs": [
    {
     "data": {
      "text/html": [
       "<div>\n",
       "<style>\n",
       "    .dataframe thead tr:only-child th {\n",
       "        text-align: right;\n",
       "    }\n",
       "\n",
       "    .dataframe thead th {\n",
       "        text-align: left;\n",
       "    }\n",
       "\n",
       "    .dataframe tbody tr th {\n",
       "        vertical-align: top;\n",
       "    }\n",
       "</style>\n",
       "<table border=\"1\" class=\"dataframe\">\n",
       "  <thead>\n",
       "    <tr style=\"text-align: right;\">\n",
       "      <th></th>\n",
       "      <th>character</th>\n",
       "      <th>gender</th>\n",
       "      <th>line</th>\n",
       "    </tr>\n",
       "  </thead>\n",
       "  <tbody>\n",
       "    <tr>\n",
       "      <th>0</th>\n",
       "      <td>ADDAM MARBRAND</td>\n",
       "      <td>male</td>\n",
       "      <td>ls it true about Stannis and Renly?  First we...</td>\n",
       "    </tr>\n",
       "    <tr>\n",
       "      <th>1</th>\n",
       "      <td>AEMON</td>\n",
       "      <td>male</td>\n",
       "      <td>How many winters have you seen, Lord Tyrion? ...</td>\n",
       "    </tr>\n",
       "    <tr>\n",
       "      <th>2</th>\n",
       "      <td>AERON</td>\n",
       "      <td>male</td>\n",
       "      <td>Theon of the House Greyjoy, you would this day...</td>\n",
       "    </tr>\n",
       "    <tr>\n",
       "      <th>3</th>\n",
       "      <td>ALL</td>\n",
       "      <td>male</td>\n",
       "      <td>What is dead may never die.  Aye!  Aye!  Aye!...</td>\n",
       "    </tr>\n",
       "    <tr>\n",
       "      <th>4</th>\n",
       "      <td>ALL THREE</td>\n",
       "      <td>male</td>\n",
       "      <td>. What's dead may never die. The only night sh...</td>\n",
       "    </tr>\n",
       "  </tbody>\n",
       "</table>\n",
       "</div>"
      ],
      "text/plain": [
       "        character gender                                               line\n",
       "0  ADDAM MARBRAND   male   ls it true about Stannis and Renly?  First we...\n",
       "1           AEMON   male   How many winters have you seen, Lord Tyrion? ...\n",
       "2           AERON   male  Theon of the House Greyjoy, you would this day...\n",
       "3             ALL   male   What is dead may never die.  Aye!  Aye!  Aye!...\n",
       "4       ALL THREE   male  . What's dead may never die. The only night sh..."
      ]
     },
     "execution_count": 12,
     "metadata": {},
     "output_type": "execute_result"
    }
   ],
   "source": [
    "character_lines = data.groupby(['character','gender'])['line'].apply(lambda x: ' '.join(x)).reset_index()\n",
    "character_lines.head()"
   ]
  },
  {
   "cell_type": "code",
   "execution_count": 13,
   "metadata": {},
   "outputs": [
    {
     "data": {
      "text/html": [
       "<div>\n",
       "<style>\n",
       "    .dataframe thead tr:only-child th {\n",
       "        text-align: right;\n",
       "    }\n",
       "\n",
       "    .dataframe thead th {\n",
       "        text-align: left;\n",
       "    }\n",
       "\n",
       "    .dataframe tbody tr th {\n",
       "        vertical-align: top;\n",
       "    }\n",
       "</style>\n",
       "<table border=\"1\" class=\"dataframe\">\n",
       "  <thead>\n",
       "    <tr style=\"text-align: right;\">\n",
       "      <th></th>\n",
       "      <th>character</th>\n",
       "      <th>gender</th>\n",
       "      <th>line</th>\n",
       "    </tr>\n",
       "  </thead>\n",
       "  <tbody>\n",
       "    <tr>\n",
       "      <th>0</th>\n",
       "      <td>ADDAM MARBRAND</td>\n",
       "      <td>male</td>\n",
       "      <td>ls it true about stannis and renly?  first we...</td>\n",
       "    </tr>\n",
       "    <tr>\n",
       "      <th>1</th>\n",
       "      <td>AEMON</td>\n",
       "      <td>male</td>\n",
       "      <td>how many winters have you seen, lord tyrion? ...</td>\n",
       "    </tr>\n",
       "    <tr>\n",
       "      <th>2</th>\n",
       "      <td>AERON</td>\n",
       "      <td>male</td>\n",
       "      <td>theon of the house greyjoy, you would this day...</td>\n",
       "    </tr>\n",
       "    <tr>\n",
       "      <th>3</th>\n",
       "      <td>ALL</td>\n",
       "      <td>male</td>\n",
       "      <td>what is dead may never die.  aye!  aye!  aye!...</td>\n",
       "    </tr>\n",
       "    <tr>\n",
       "      <th>4</th>\n",
       "      <td>ALL THREE</td>\n",
       "      <td>male</td>\n",
       "      <td>. what's dead may never die. the only night sh...</td>\n",
       "    </tr>\n",
       "  </tbody>\n",
       "</table>\n",
       "</div>"
      ],
      "text/plain": [
       "        character gender                                               line\n",
       "0  ADDAM MARBRAND   male   ls it true about stannis and renly?  first we...\n",
       "1           AEMON   male   how many winters have you seen, lord tyrion? ...\n",
       "2           AERON   male  theon of the house greyjoy, you would this day...\n",
       "3             ALL   male   what is dead may never die.  aye!  aye!  aye!...\n",
       "4       ALL THREE   male  . what's dead may never die. the only night sh..."
      ]
     },
     "execution_count": 13,
     "metadata": {},
     "output_type": "execute_result"
    }
   ],
   "source": [
    "character_lines['line'] = character_lines['line'].str.lower()\n",
    "character_lines.head()"
   ]
  },
  {
   "cell_type": "code",
   "execution_count": 14,
   "metadata": {
    "collapsed": true
   },
   "outputs": [],
   "source": [
    "character_lines['tokenized_sents'] = character_lines.apply(lambda row: nltk.word_tokenize(row['line']), axis=1)"
   ]
  },
  {
   "cell_type": "code",
   "execution_count": 15,
   "metadata": {
    "collapsed": true
   },
   "outputs": [],
   "source": [
    "# top 10 vocal characters\n",
    "tyrion = character_lines[(character_lines.character == 'TYRION')]\n",
    "cersei = character_lines[(character_lines.character == 'CERSEI')]\n",
    "jon = character_lines[(character_lines.character == 'JON')]\n",
    "jaime = character_lines[(character_lines.character == 'JAIME')]\n",
    "daenerys = character_lines[(character_lines.character == 'DAENERYS')]\n",
    "littlefinger = character_lines[(character_lines.character == 'BAELISH')]\n",
    "sansa = character_lines[(character_lines.character == 'SANSA')]\n",
    "varys = character_lines[(character_lines.character == 'VARYS')]\n",
    "davos = character_lines[(character_lines.character == 'DAVOS')]\n",
    "arya = character_lines[(character_lines.character == 'ARYA')]"
   ]
  },
  {
   "cell_type": "markdown",
   "metadata": {},
   "source": [
    "## male characters"
   ]
  },
  {
   "cell_type": "code",
   "execution_count": 16,
   "metadata": {},
   "outputs": [
    {
     "name": "stdout",
     "output_type": "stream",
     "text": [
      "Number of words:  29768\n",
      "Number of distinctive words:  3161\n",
      "Lexical diversity:  0.11\n"
     ]
    }
   ],
   "source": [
    "tyrion_words = tyrion['tokenized_sents'].tolist()\n",
    "tyrion_words = [item for items in tyrion_words for item in items]\n",
    "\n",
    "n_words = len(tyrion_words)\n",
    "n_distinctive_words = len(set(tyrion_words))\n",
    "lexical_diversity = 1.0 * n_distinctive_words / n_words\n",
    "print(\"Number of words: \", n_words)\n",
    "print(\"Number of distinctive words: \", n_distinctive_words)\n",
    "print(\"Lexical diversity: \", round(lexical_diversity,2))"
   ]
  },
  {
   "cell_type": "code",
   "execution_count": 17,
   "metadata": {},
   "outputs": [
    {
     "name": "stdout",
     "output_type": "stream",
     "text": [
      "Number of words:  13901\n",
      "Number of distinctive words:  1551\n",
      "Lexical diversity:  0.11\n"
     ]
    }
   ],
   "source": [
    "jon_words = jon['tokenized_sents'].tolist()\n",
    "jon_words = [item for items in jon_words for item in items]\n",
    "\n",
    "n_words = len(jon_words)\n",
    "n_distinctive_words = len(set(jon_words))\n",
    "lexical_diversity = 1.0 * n_distinctive_words / n_words\n",
    "print(\"Number of words: \", n_words)\n",
    "print(\"Number of distinctive words: \", n_distinctive_words)\n",
    "print(\"Lexical diversity: \", round(lexical_diversity,2))"
   ]
  },
  {
   "cell_type": "code",
   "execution_count": 18,
   "metadata": {},
   "outputs": [
    {
     "name": "stdout",
     "output_type": "stream",
     "text": [
      "Number of words:  13634\n",
      "Number of distinctive words:  1887\n",
      "Lexical diversity:  0.14\n"
     ]
    }
   ],
   "source": [
    "jaime_words = jaime['tokenized_sents'].tolist()\n",
    "jaime_words = [item for items in jaime_words for item in items]\n",
    "\n",
    "n_words = len(jaime_words)\n",
    "n_distinctive_words = len(set(jaime_words))\n",
    "lexical_diversity = 1.0 * n_distinctive_words / n_words\n",
    "print(\"Number of words: \", n_words)\n",
    "print(\"Number of distinctive words: \", n_distinctive_words)\n",
    "print(\"Lexical diversity: \", round(lexical_diversity,2))"
   ]
  },
  {
   "cell_type": "code",
   "execution_count": 19,
   "metadata": {},
   "outputs": [
    {
     "name": "stdout",
     "output_type": "stream",
     "text": [
      "Number of words:  10287\n",
      "Number of distinctive words:  1711\n",
      "Lexical diversity:  0.17\n"
     ]
    }
   ],
   "source": [
    "littlefinger_words = littlefinger['tokenized_sents'].tolist()\n",
    "littlefinger_words = [item for items in littlefinger_words for item in items]\n",
    "\n",
    "n_words = len(littlefinger_words)\n",
    "n_distinctive_words = len(set(littlefinger_words))\n",
    "lexical_diversity = 1.0 * n_distinctive_words / n_words\n",
    "print(\"Number of words: \", n_words)\n",
    "print(\"Number of distinctive words: \", n_distinctive_words)\n",
    "print(\"Lexical diversity: \", round(lexical_diversity,2))"
   ]
  },
  {
   "cell_type": "code",
   "execution_count": 20,
   "metadata": {},
   "outputs": [
    {
     "name": "stdout",
     "output_type": "stream",
     "text": [
      "Number of words:  7994\n",
      "Number of distinctive words:  1590\n",
      "Lexical diversity:  0.2\n"
     ]
    }
   ],
   "source": [
    "varys_words = varys['tokenized_sents'].tolist()\n",
    "varys_words = [item for items in varys_words for item in items]\n",
    "\n",
    "n_words = len(varys_words)\n",
    "n_distinctive_words = len(set(varys_words))\n",
    "lexical_diversity = 1.0 * n_distinctive_words / n_words\n",
    "print(\"Number of words: \", n_words)\n",
    "print(\"Number of distinctive words: \", n_distinctive_words)\n",
    "print(\"Lexical diversity: \", round(lexical_diversity,2))"
   ]
  },
  {
   "cell_type": "code",
   "execution_count": 21,
   "metadata": {},
   "outputs": [
    {
     "name": "stdout",
     "output_type": "stream",
     "text": [
      "Number of words:  7684\n",
      "Number of distinctive words:  1317\n",
      "Lexical diversity:  0.17\n"
     ]
    }
   ],
   "source": [
    "davos_words = davos['tokenized_sents'].tolist()\n",
    "davos_words = [item for items in davos_words for item in items]\n",
    "\n",
    "n_words = len(davos_words)\n",
    "n_distinctive_words = len(set(davos_words))\n",
    "lexical_diversity = 1.0 * n_distinctive_words / n_words\n",
    "print(\"Number of words: \", n_words)\n",
    "print(\"Number of distinctive words: \", n_distinctive_words)\n",
    "print(\"Lexical diversity: \", round(lexical_diversity,2))"
   ]
  },
  {
   "cell_type": "markdown",
   "metadata": {},
   "source": [
    "## female characters"
   ]
  },
  {
   "cell_type": "code",
   "execution_count": 22,
   "metadata": {},
   "outputs": [
    {
     "name": "stdout",
     "output_type": "stream",
     "text": [
      "Number of words:  18618\n",
      "Number of distinctive words:  2256\n",
      "Lexical diversity:  0.12\n"
     ]
    }
   ],
   "source": [
    "cersei_words = cersei['tokenized_sents'].tolist()\n",
    "cersei_words = [item for items in cersei_words for item in items]\n",
    "\n",
    "n_words = len(cersei_words)\n",
    "n_distinctive_words = len(set(cersei_words))\n",
    "lexical_diversity = 1.0 * n_distinctive_words / n_words\n",
    "print(\"Number of words: \", n_words)\n",
    "print(\"Number of distinctive words: \", n_distinctive_words)\n",
    "print(\"Lexical diversity: \", round(lexical_diversity,2))"
   ]
  },
  {
   "cell_type": "code",
   "execution_count": 23,
   "metadata": {},
   "outputs": [
    {
     "name": "stdout",
     "output_type": "stream",
     "text": [
      "Number of words:  12697\n",
      "Number of distinctive words:  1612\n",
      "Lexical diversity:  0.13\n"
     ]
    }
   ],
   "source": [
    "daenerys_words = daenerys['tokenized_sents'].tolist()\n",
    "daenerys_words = [item for items in daenerys_words for item in items]\n",
    "\n",
    "n_words = len(daenerys_words)\n",
    "n_distinctive_words = len(set(daenerys_words))\n",
    "lexical_diversity = 1.0 * n_distinctive_words / n_words\n",
    "print(\"Number of words: \", n_words)\n",
    "print(\"Number of distinctive words: \", n_distinctive_words)\n",
    "print(\"Lexical diversity: \", round(lexical_diversity,2))"
   ]
  },
  {
   "cell_type": "code",
   "execution_count": 24,
   "metadata": {},
   "outputs": [
    {
     "name": "stdout",
     "output_type": "stream",
     "text": [
      "Number of words:  10189\n",
      "Number of distinctive words:  1310\n",
      "Lexical diversity:  0.13\n"
     ]
    }
   ],
   "source": [
    "sansa_words = sansa['tokenized_sents'].tolist()\n",
    "sansa_words = [item for items in sansa_words for item in items]\n",
    "\n",
    "n_words = len(sansa_words)\n",
    "n_distinctive_words = len(set(sansa_words))\n",
    "lexical_diversity = 1.0 * n_distinctive_words / n_words\n",
    "print(\"Number of words: \", n_words)\n",
    "print(\"Number of distinctive words: \", n_distinctive_words)\n",
    "print(\"Lexical diversity: \", round(lexical_diversity,2))"
   ]
  },
  {
   "cell_type": "code",
   "execution_count": 25,
   "metadata": {},
   "outputs": [
    {
     "name": "stdout",
     "output_type": "stream",
     "text": [
      "Number of words:  7899\n",
      "Number of distinctive words:  1109\n",
      "Lexical diversity:  0.14\n"
     ]
    }
   ],
   "source": [
    "arya_words = arya['tokenized_sents'].tolist()\n",
    "arya_words = [item for items in arya_words for item in items]\n",
    "\n",
    "n_words = len(arya_words)\n",
    "n_distinctive_words = len(set(arya_words))\n",
    "lexical_diversity = 1.0 * n_distinctive_words / n_words\n",
    "print(\"Number of words: \", n_words)\n",
    "print(\"Number of distinctive words: \", n_distinctive_words)\n",
    "print(\"Lexical diversity: \", round(lexical_diversity,2))"
   ]
  },
  {
   "cell_type": "code",
   "execution_count": 26,
   "metadata": {},
   "outputs": [
    {
     "name": "stdout",
     "output_type": "stream",
     "text": [
      "average male lexical diversity:  0.15\n",
      "average female lexical diversity:  0.13\n"
     ]
    }
   ],
   "source": [
    "import statistics\n",
    "\n",
    "avg_male_lexical_diversity = statistics.mean([0.11,0.11,0.14,0.17,0.2,0.17])\n",
    "avg_female_lexical_diversity = statistics.mean([0.12,0.13,0.13,0.14])\n",
    "\n",
    "print(\"average male lexical diversity: \", round(avg_male_lexical_diversity,2))\n",
    "print(\"average female lexical diversity: \", round(avg_female_lexical_diversity,2))"
   ]
  },
  {
   "cell_type": "markdown",
   "metadata": {},
   "source": [
    "# Exploring POS: Adjective Ratio"
   ]
  },
  {
   "cell_type": "code",
   "execution_count": 27,
   "metadata": {
    "collapsed": true
   },
   "outputs": [],
   "source": [
    "from nltk import word_tokenize, pos_tag, pos_tag_sents"
   ]
  },
  {
   "cell_type": "code",
   "execution_count": 28,
   "metadata": {},
   "outputs": [
    {
     "data": {
      "text/plain": [
       "[('NN', 14502),\n",
       " ('.', 12190),\n",
       " ('PRP', 10333),\n",
       " ('VB', 7067),\n",
       " ('DT', 6776),\n",
       " ('IN', 6537),\n",
       " ('JJ', 5551),\n",
       " ('RB', 5516),\n",
       " ('VBP', 5047),\n",
       " ('VBD', 3358),\n",
       " ('NNS', 3228),\n",
       " (',', 3144),\n",
       " ('PRP$', 3034),\n",
       " ('VBZ', 2433),\n",
       " ('TO', 2377),\n",
       " ('MD', 2266),\n",
       " ('CC', 2121),\n",
       " ('VBN', 1429),\n",
       " ('VBG', 1256),\n",
       " ('WP', 996)]"
      ]
     },
     "execution_count": 28,
     "metadata": {},
     "output_type": "execute_result"
    }
   ],
   "source": [
    "f_text = female['tokenized_sents'].tolist()\n",
    "f_text = [item for sublist in f_text for item in sublist]\n",
    "#f_text[0:10]\n",
    "tagged_f_texts = nltk.pos_tag(f_text)\n",
    "nltk.FreqDist([b for (a, b) in tagged_f_texts]).most_common(20)"
   ]
  },
  {
   "cell_type": "code",
   "execution_count": 29,
   "metadata": {},
   "outputs": [
    {
     "data": {
      "text/plain": [
       "[('NN', 37395),\n",
       " ('.', 29039),\n",
       " ('PRP', 22087),\n",
       " ('DT', 18699),\n",
       " ('IN', 17261),\n",
       " ('VB', 15952),\n",
       " ('JJ', 13960),\n",
       " ('RB', 12903),\n",
       " ('VBP', 11368),\n",
       " ('NNS', 8761),\n",
       " (',', 8272),\n",
       " ('VBD', 7121),\n",
       " ('PRP$', 7088),\n",
       " ('VBZ', 6128),\n",
       " ('TO', 5567),\n",
       " ('MD', 5038),\n",
       " ('CC', 4971),\n",
       " ('VBN', 3564),\n",
       " ('VBG', 3275),\n",
       " ('WP', 2025)]"
      ]
     },
     "execution_count": 29,
     "metadata": {},
     "output_type": "execute_result"
    }
   ],
   "source": [
    "m_text = male['tokenized_sents'].tolist()\n",
    "m_text = [item for sublist in m_text for item in sublist]\n",
    "#m_text[0:10]\n",
    "tagged_m_texts = nltk.pos_tag(m_text)\n",
    "nltk.FreqDist([b for (a, b) in tagged_m_texts]).most_common(20)"
   ]
  },
  {
   "cell_type": "code",
   "execution_count": 30,
   "metadata": {
    "collapsed": true
   },
   "outputs": [],
   "source": [
    "def adjnounratio(text):\n",
    "    l_adjs = len([tag for (word,tag) in text if tag == 'JJ'])\n",
    "    l_noun = len([tag for (word,tag) in text if tag == 'NN' or tag == 'NNS'])\n",
    "    ratio = l_adjs/l_noun\n",
    "    return(ratio)"
   ]
  },
  {
   "cell_type": "code",
   "execution_count": 32,
   "metadata": {},
   "outputs": [
    {
     "data": {
      "text/plain": [
       "0.3130851663846588"
      ]
     },
     "execution_count": 32,
     "metadata": {},
     "output_type": "execute_result"
    }
   ],
   "source": [
    "adjnounratio(tagged_f_texts)"
   ]
  },
  {
   "cell_type": "code",
   "execution_count": 33,
   "metadata": {},
   "outputs": [
    {
     "data": {
      "text/plain": [
       "0.30245255221423"
      ]
     },
     "execution_count": 33,
     "metadata": {},
     "output_type": "execute_result"
    }
   ],
   "source": [
    "adjnounratio(tagged_m_texts)"
   ]
  },
  {
   "cell_type": "markdown",
   "metadata": {
    "collapsed": true
   },
   "source": [
    "## filtering on main characters"
   ]
  },
  {
   "cell_type": "code",
   "execution_count": 34,
   "metadata": {},
   "outputs": [
    {
     "data": {
      "text/html": [
       "<div>\n",
       "<style>\n",
       "    .dataframe thead tr:only-child th {\n",
       "        text-align: right;\n",
       "    }\n",
       "\n",
       "    .dataframe thead th {\n",
       "        text-align: left;\n",
       "    }\n",
       "\n",
       "    .dataframe tbody tr th {\n",
       "        vertical-align: top;\n",
       "    }\n",
       "</style>\n",
       "<table border=\"1\" class=\"dataframe\">\n",
       "  <thead>\n",
       "    <tr style=\"text-align: right;\">\n",
       "      <th></th>\n",
       "      <th>character</th>\n",
       "      <th>gender</th>\n",
       "      <th>line</th>\n",
       "      <th>tokenized_sents</th>\n",
       "    </tr>\n",
       "  </thead>\n",
       "  <tbody>\n",
       "    <tr>\n",
       "      <th>0</th>\n",
       "      <td>ADDAM MARBRAND</td>\n",
       "      <td>male</td>\n",
       "      <td>ls it true about stannis and renly?  first we...</td>\n",
       "      <td>[ls, it, true, about, stannis, and, renly, ?, ...</td>\n",
       "    </tr>\n",
       "    <tr>\n",
       "      <th>1</th>\n",
       "      <td>AEMON</td>\n",
       "      <td>male</td>\n",
       "      <td>how many winters have you seen, lord tyrion? ...</td>\n",
       "      <td>[how, many, winters, have, you, seen, ,, lord,...</td>\n",
       "    </tr>\n",
       "    <tr>\n",
       "      <th>2</th>\n",
       "      <td>AERON</td>\n",
       "      <td>male</td>\n",
       "      <td>theon of the house greyjoy, you would this day...</td>\n",
       "      <td>[theon, of, the, house, greyjoy, ,, you, would...</td>\n",
       "    </tr>\n",
       "    <tr>\n",
       "      <th>3</th>\n",
       "      <td>ALL</td>\n",
       "      <td>male</td>\n",
       "      <td>what is dead may never die.  aye!  aye!  aye!...</td>\n",
       "      <td>[what, is, dead, may, never, die, ., aye, !, a...</td>\n",
       "    </tr>\n",
       "    <tr>\n",
       "      <th>4</th>\n",
       "      <td>ALL THREE</td>\n",
       "      <td>male</td>\n",
       "      <td>. what's dead may never die. the only night sh...</td>\n",
       "      <td>[., what, 's, dead, may, never, die, ., the, o...</td>\n",
       "    </tr>\n",
       "  </tbody>\n",
       "</table>\n",
       "</div>"
      ],
      "text/plain": [
       "        character gender                                               line  \\\n",
       "0  ADDAM MARBRAND   male   ls it true about stannis and renly?  first we...   \n",
       "1           AEMON   male   how many winters have you seen, lord tyrion? ...   \n",
       "2           AERON   male  theon of the house greyjoy, you would this day...   \n",
       "3             ALL   male   what is dead may never die.  aye!  aye!  aye!...   \n",
       "4       ALL THREE   male  . what's dead may never die. the only night sh...   \n",
       "\n",
       "                                     tokenized_sents  \n",
       "0  [ls, it, true, about, stannis, and, renly, ?, ...  \n",
       "1  [how, many, winters, have, you, seen, ,, lord,...  \n",
       "2  [theon, of, the, house, greyjoy, ,, you, would...  \n",
       "3  [what, is, dead, may, never, die, ., aye, !, a...  \n",
       "4  [., what, 's, dead, may, never, die, ., the, o...  "
      ]
     },
     "execution_count": 34,
     "metadata": {},
     "output_type": "execute_result"
    }
   ],
   "source": [
    "character_lines.head()"
   ]
  },
  {
   "cell_type": "code",
   "execution_count": 35,
   "metadata": {
    "collapsed": true
   },
   "outputs": [],
   "source": [
    "character_lines_2 = character_lines[(character_lines.character == 'TYRION') |\n",
    "                                    (character_lines.character == 'JON') |\n",
    "                                    (character_lines.character == 'JAIME') |\n",
    "                                    (character_lines.character == 'BAELISH') |\n",
    "                                    (character_lines.character == 'VARYS') |\n",
    "                                    (character_lines.character == 'DAVOS') |\n",
    "                                    (character_lines.character == 'CERSEI') |\n",
    "                                    (character_lines.character == 'DAENERYS') |\n",
    "                                    (character_lines.character == 'SANSA') |\n",
    "                                    (character_lines.character == 'ARYA')]"
   ]
  },
  {
   "cell_type": "code",
   "execution_count": 36,
   "metadata": {
    "collapsed": true
   },
   "outputs": [],
   "source": [
    "female = character_lines_2[(character_lines_2.gender == 'female')]\n",
    "male = character_lines_2[(character_lines_2.gender == 'male')]"
   ]
  },
  {
   "cell_type": "code",
   "execution_count": 37,
   "metadata": {},
   "outputs": [
    {
     "data": {
      "text/plain": [
       "[('NN', 6871),\n",
       " ('.', 5843),\n",
       " ('PRP', 4958),\n",
       " ('VB', 3553),\n",
       " ('DT', 3261),\n",
       " ('IN', 3047),\n",
       " ('RB', 2701),\n",
       " ('JJ', 2556),\n",
       " ('VBP', 2324),\n",
       " ('VBD', 1684),\n",
       " ('NNS', 1584),\n",
       " ('PRP$', 1429),\n",
       " (',', 1345),\n",
       " ('TO', 1229),\n",
       " ('MD', 1200),\n",
       " ('VBZ', 1145),\n",
       " ('CC', 1029),\n",
       " ('VBN', 666),\n",
       " ('VBG', 634),\n",
       " ('WP', 541)]"
      ]
     },
     "execution_count": 37,
     "metadata": {},
     "output_type": "execute_result"
    }
   ],
   "source": [
    "f_text = female['tokenized_sents'].tolist()\n",
    "f_text = [item for sublist in f_text for item in sublist]\n",
    "#f_text[0:10]\n",
    "tagged_f_texts = nltk.pos_tag(f_text)\n",
    "nltk.FreqDist([b for (a, b) in tagged_f_texts]).most_common(20)"
   ]
  },
  {
   "cell_type": "code",
   "execution_count": 38,
   "metadata": {},
   "outputs": [
    {
     "data": {
      "text/plain": [
       "[('NN', 12243),\n",
       " ('.', 9114),\n",
       " ('PRP', 7292),\n",
       " ('DT', 6100),\n",
       " ('IN', 6003),\n",
       " ('VB', 5321),\n",
       " ('JJ', 4848),\n",
       " ('RB', 4482),\n",
       " ('VBP', 3878),\n",
       " ('NNS', 2861),\n",
       " (',', 2661),\n",
       " ('VBD', 2399),\n",
       " ('PRP$', 2271),\n",
       " ('VBZ', 2075),\n",
       " ('TO', 2008),\n",
       " ('MD', 1652),\n",
       " ('CC', 1635),\n",
       " ('VBN', 1227),\n",
       " ('VBG', 1159),\n",
       " ('WP', 655)]"
      ]
     },
     "execution_count": 38,
     "metadata": {},
     "output_type": "execute_result"
    }
   ],
   "source": [
    "m_text = male['tokenized_sents'].tolist()\n",
    "m_text = [item for sublist in m_text for item in sublist]\n",
    "#m_text[0:10]\n",
    "tagged_m_texts = nltk.pos_tag(m_text)\n",
    "nltk.FreqDist([b for (a, b) in tagged_m_texts]).most_common(20)"
   ]
  },
  {
   "cell_type": "code",
   "execution_count": 40,
   "metadata": {},
   "outputs": [
    {
     "data": {
      "text/plain": [
       "0.3023063276167948"
      ]
     },
     "execution_count": 40,
     "metadata": {},
     "output_type": "execute_result"
    }
   ],
   "source": [
    "adjnounratio(tagged_f_texts)"
   ]
  },
  {
   "cell_type": "code",
   "execution_count": 42,
   "metadata": {},
   "outputs": [
    {
     "data": {
      "text/plain": [
       "0.3209745762711864"
      ]
     },
     "execution_count": 42,
     "metadata": {},
     "output_type": "execute_result"
    }
   ],
   "source": [
    "adjnounratio(tagged_m_texts)"
   ]
  },
  {
   "cell_type": "code",
   "execution_count": null,
   "metadata": {
    "collapsed": true
   },
   "outputs": [],
   "source": []
  }
 ],
 "metadata": {
  "kernelspec": {
   "display_name": "Python 3",
   "language": "python",
   "name": "python3"
  },
  "language_info": {
   "codemirror_mode": {
    "name": "ipython",
    "version": 3
   },
   "file_extension": ".py",
   "mimetype": "text/x-python",
   "name": "python",
   "nbconvert_exporter": "python",
   "pygments_lexer": "ipython3",
   "version": "3.6.1"
  }
 },
 "nbformat": 4,
 "nbformat_minor": 2
}
