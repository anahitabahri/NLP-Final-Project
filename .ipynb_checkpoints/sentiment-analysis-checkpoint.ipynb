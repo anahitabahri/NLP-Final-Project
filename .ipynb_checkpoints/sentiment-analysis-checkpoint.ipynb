{
 "cells": [
  {
   "cell_type": "code",
   "execution_count": 1,
   "metadata": {
    "collapsed": true
   },
   "outputs": [],
   "source": [
    "import pandas as pd\n",
    "import numpy as np\n",
    "import nltk\n",
    "\n",
    "from textblob import TextBlob\n",
    "from textblob.classifiers import NaiveBayesClassifier\n",
    "from textblob.sentiments import NaiveBayesAnalyzer"
   ]
  },
  {
   "cell_type": "markdown",
   "metadata": {},
   "source": [
    "# Sentiment Analysis 1: Create own analyzer"
   ]
  },
  {
   "cell_type": "code",
   "execution_count": 2,
   "metadata": {
    "collapsed": true
   },
   "outputs": [],
   "source": [
    "data = pd.read_csv(\"../Data/data.csv\")\n",
    "\n",
    "negative_words = pd.read_csv(\"../words_negative.csv\", header=None)\n",
    "positive_words = pd.read_csv(\"../words_positive.csv\", header=None)"
   ]
  },
  {
   "cell_type": "code",
   "execution_count": 3,
   "metadata": {
    "collapsed": true
   },
   "outputs": [],
   "source": [
    "negative = negative_words.values.tolist()\n",
    "positive = positive_words.values.tolist()"
   ]
  },
  {
   "cell_type": "code",
   "execution_count": 4,
   "metadata": {
    "collapsed": true
   },
   "outputs": [],
   "source": [
    "def sentiment(text):\n",
    "    temp = []\n",
    "    text_sent = nltk.sent_tokenize(text)\n",
    "    for sentence in text_sent:\n",
    "        n_count = 0\n",
    "        p_count = 0\n",
    "        sent_words = nltk.word_tokenize(sentence)\n",
    "        for word in sent_words:\n",
    "            for item in positive:\n",
    "                if(word == item[0]):\n",
    "                    p_count +=1\n",
    "            for item in negative:\n",
    "                if(word == item[0]):\n",
    "                    n_count +=1\n",
    "        if(p_count > 0 and n_count == 0):\n",
    "            temp.append(1)\n",
    "        elif(n_count%2 > 0):\n",
    "            temp.append(-1)\n",
    "        elif(n_count%2 == 0 and n_count > 0):\n",
    "            temp.append(1)\n",
    "        else:\n",
    "            temp.append(0)\n",
    "    return temp"
   ]
  },
  {
   "cell_type": "code",
   "execution_count": 5,
   "metadata": {
    "collapsed": true
   },
   "outputs": [],
   "source": [
    "female_lines = data['line'][data.gender == 'female']\n",
    "male_lines = data['line'][data.gender == 'male']\n",
    "\n",
    "female = female_lines.values.tolist()\n",
    "male = male_lines.values.tolist()"
   ]
  },
  {
   "cell_type": "code",
   "execution_count": 6,
   "metadata": {},
   "outputs": [
    {
     "data": {
      "text/plain": [
       "0.010581576572881633"
      ]
     },
     "execution_count": 6,
     "metadata": {},
     "output_type": "execute_result"
    }
   ],
   "source": [
    "np.average(sentiment(str(female)))"
   ]
  },
  {
   "cell_type": "code",
   "execution_count": 7,
   "metadata": {},
   "outputs": [
    {
     "data": {
      "text/plain": [
       "0.028802199690668499"
      ]
     },
     "execution_count": 7,
     "metadata": {},
     "output_type": "execute_result"
    }
   ],
   "source": [
    "np.average(sentiment(str(male)))"
   ]
  },
  {
   "cell_type": "markdown",
   "metadata": {},
   "source": [
    "According to my sentiment function, male characters, on average, have a more positive sentiment."
   ]
  },
  {
   "cell_type": "markdown",
   "metadata": {},
   "source": [
    "# Sentiment Analysis 2: Using TextBlob "
   ]
  },
  {
   "cell_type": "code",
   "execution_count": 8,
   "metadata": {
    "collapsed": true
   },
   "outputs": [],
   "source": [
    "data[['polarity', 'subjectivity']] = data['line'].apply(lambda line: pd.Series(TextBlob(line).sentiment))"
   ]
  },
  {
   "cell_type": "code",
   "execution_count": 9,
   "metadata": {},
   "outputs": [
    {
     "data": {
      "text/html": [
       "<div>\n",
       "<style>\n",
       "    .dataframe thead tr:only-child th {\n",
       "        text-align: right;\n",
       "    }\n",
       "\n",
       "    .dataframe thead th {\n",
       "        text-align: left;\n",
       "    }\n",
       "\n",
       "    .dataframe tbody tr th {\n",
       "        vertical-align: top;\n",
       "    }\n",
       "</style>\n",
       "<table border=\"1\" class=\"dataframe\">\n",
       "  <thead>\n",
       "    <tr style=\"text-align: right;\">\n",
       "      <th></th>\n",
       "      <th>line_no</th>\n",
       "      <th>character</th>\n",
       "      <th>line</th>\n",
       "      <th>gender</th>\n",
       "      <th>n_words</th>\n",
       "      <th>season</th>\n",
       "      <th>episode</th>\n",
       "      <th>season_episode</th>\n",
       "      <th>episode_no</th>\n",
       "      <th>polarity</th>\n",
       "      <th>subjectivity</th>\n",
       "    </tr>\n",
       "  </thead>\n",
       "  <tbody>\n",
       "    <tr>\n",
       "      <th>0</th>\n",
       "      <td>1</td>\n",
       "      <td>ROYCE</td>\n",
       "      <td>What do you expect? They're savages. One lot s...</td>\n",
       "      <td>male</td>\n",
       "      <td>24</td>\n",
       "      <td>1</td>\n",
       "      <td>1</td>\n",
       "      <td>s01e01</td>\n",
       "      <td>1</td>\n",
       "      <td>-0.125</td>\n",
       "      <td>0.375</td>\n",
       "    </tr>\n",
       "    <tr>\n",
       "      <th>1</th>\n",
       "      <td>2</td>\n",
       "      <td>WILL</td>\n",
       "      <td>I've never seen wildlings do a thing like this...</td>\n",
       "      <td>male</td>\n",
       "      <td>21</td>\n",
       "      <td>1</td>\n",
       "      <td>1</td>\n",
       "      <td>s01e01</td>\n",
       "      <td>1</td>\n",
       "      <td>0.000</td>\n",
       "      <td>0.000</td>\n",
       "    </tr>\n",
       "    <tr>\n",
       "      <th>2</th>\n",
       "      <td>3</td>\n",
       "      <td>ROYCE</td>\n",
       "      <td>How close did you get?</td>\n",
       "      <td>male</td>\n",
       "      <td>5</td>\n",
       "      <td>1</td>\n",
       "      <td>1</td>\n",
       "      <td>s01e01</td>\n",
       "      <td>1</td>\n",
       "      <td>0.000</td>\n",
       "      <td>0.000</td>\n",
       "    </tr>\n",
       "    <tr>\n",
       "      <th>3</th>\n",
       "      <td>4</td>\n",
       "      <td>WILL</td>\n",
       "      <td>Close as any man would.</td>\n",
       "      <td>male</td>\n",
       "      <td>5</td>\n",
       "      <td>1</td>\n",
       "      <td>1</td>\n",
       "      <td>s01e01</td>\n",
       "      <td>1</td>\n",
       "      <td>0.000</td>\n",
       "      <td>0.000</td>\n",
       "    </tr>\n",
       "    <tr>\n",
       "      <th>4</th>\n",
       "      <td>5</td>\n",
       "      <td>GARED</td>\n",
       "      <td>We should head back to the wall.</td>\n",
       "      <td>male</td>\n",
       "      <td>7</td>\n",
       "      <td>1</td>\n",
       "      <td>1</td>\n",
       "      <td>s01e01</td>\n",
       "      <td>1</td>\n",
       "      <td>0.000</td>\n",
       "      <td>0.000</td>\n",
       "    </tr>\n",
       "  </tbody>\n",
       "</table>\n",
       "</div>"
      ],
      "text/plain": [
       "   line_no character                                               line  \\\n",
       "0        1     ROYCE  What do you expect? They're savages. One lot s...   \n",
       "1        2      WILL  I've never seen wildlings do a thing like this...   \n",
       "2        3     ROYCE                             How close did you get?   \n",
       "3        4      WILL                            Close as any man would.   \n",
       "4        5     GARED                   We should head back to the wall.   \n",
       "\n",
       "  gender  n_words  season  episode season_episode  episode_no  polarity  \\\n",
       "0   male       24       1        1         s01e01           1    -0.125   \n",
       "1   male       21       1        1         s01e01           1     0.000   \n",
       "2   male        5       1        1         s01e01           1     0.000   \n",
       "3   male        5       1        1         s01e01           1     0.000   \n",
       "4   male        7       1        1         s01e01           1     0.000   \n",
       "\n",
       "   subjectivity  \n",
       "0         0.375  \n",
       "1         0.000  \n",
       "2         0.000  \n",
       "3         0.000  \n",
       "4         0.000  "
      ]
     },
     "execution_count": 9,
     "metadata": {},
     "output_type": "execute_result"
    }
   ],
   "source": [
    "data.head()"
   ]
  },
  {
   "cell_type": "markdown",
   "metadata": {},
   "source": [
    "### Gender Comparison"
   ]
  },
  {
   "cell_type": "code",
   "execution_count": 10,
   "metadata": {},
   "outputs": [
    {
     "data": {
      "text/html": [
       "<div>\n",
       "<style>\n",
       "    .dataframe thead tr:only-child th {\n",
       "        text-align: right;\n",
       "    }\n",
       "\n",
       "    .dataframe thead th {\n",
       "        text-align: left;\n",
       "    }\n",
       "\n",
       "    .dataframe tbody tr th {\n",
       "        vertical-align: top;\n",
       "    }\n",
       "</style>\n",
       "<table border=\"1\" class=\"dataframe\">\n",
       "  <thead>\n",
       "    <tr style=\"text-align: right;\">\n",
       "      <th></th>\n",
       "      <th>gender</th>\n",
       "      <th>line</th>\n",
       "    </tr>\n",
       "  </thead>\n",
       "  <tbody>\n",
       "    <tr>\n",
       "      <th>0</th>\n",
       "      <td>female</td>\n",
       "      <td>Fine work, as always. Well done.  Thank you. ...</td>\n",
       "    </tr>\n",
       "    <tr>\n",
       "      <th>1</th>\n",
       "      <td>male</td>\n",
       "      <td>What do you expect? They're savages. One lot s...</td>\n",
       "    </tr>\n",
       "  </tbody>\n",
       "</table>\n",
       "</div>"
      ],
      "text/plain": [
       "   gender                                               line\n",
       "0  female   Fine work, as always. Well done.  Thank you. ...\n",
       "1    male  What do you expect? They're savages. One lot s..."
      ]
     },
     "execution_count": 10,
     "metadata": {},
     "output_type": "execute_result"
    }
   ],
   "source": [
    "gender = data.groupby(['gender'])['line'].apply(lambda x: ' '.join(x)).reset_index()\n",
    "gender.head()"
   ]
  },
  {
   "cell_type": "code",
   "execution_count": 11,
   "metadata": {},
   "outputs": [
    {
     "data": {
      "text/html": [
       "<div>\n",
       "<style>\n",
       "    .dataframe thead tr:only-child th {\n",
       "        text-align: right;\n",
       "    }\n",
       "\n",
       "    .dataframe thead th {\n",
       "        text-align: left;\n",
       "    }\n",
       "\n",
       "    .dataframe tbody tr th {\n",
       "        vertical-align: top;\n",
       "    }\n",
       "</style>\n",
       "<table border=\"1\" class=\"dataframe\">\n",
       "  <thead>\n",
       "    <tr style=\"text-align: right;\">\n",
       "      <th></th>\n",
       "      <th>gender</th>\n",
       "      <th>line</th>\n",
       "      <th>polarity</th>\n",
       "      <th>subjectivity</th>\n",
       "    </tr>\n",
       "  </thead>\n",
       "  <tbody>\n",
       "    <tr>\n",
       "      <th>0</th>\n",
       "      <td>female</td>\n",
       "      <td>Fine work, as always. Well done.  Thank you. ...</td>\n",
       "      <td>0.104083</td>\n",
       "      <td>0.545007</td>\n",
       "    </tr>\n",
       "    <tr>\n",
       "      <th>1</th>\n",
       "      <td>male</td>\n",
       "      <td>What do you expect? They're savages. One lot s...</td>\n",
       "      <td>0.093597</td>\n",
       "      <td>0.519262</td>\n",
       "    </tr>\n",
       "  </tbody>\n",
       "</table>\n",
       "</div>"
      ],
      "text/plain": [
       "   gender                                               line  polarity  \\\n",
       "0  female   Fine work, as always. Well done.  Thank you. ...  0.104083   \n",
       "1    male  What do you expect? They're savages. One lot s...  0.093597   \n",
       "\n",
       "   subjectivity  \n",
       "0      0.545007  \n",
       "1      0.519262  "
      ]
     },
     "execution_count": 11,
     "metadata": {},
     "output_type": "execute_result"
    }
   ],
   "source": [
    "gender[['polarity', 'subjectivity']] = gender['line'].apply(lambda line: pd.Series(TextBlob(line).sentiment))\n",
    "gender"
   ]
  },
  {
   "cell_type": "markdown",
   "metadata": {},
   "source": [
    "### Season Comparison"
   ]
  },
  {
   "cell_type": "code",
   "execution_count": 12,
   "metadata": {},
   "outputs": [
    {
     "data": {
      "text/html": [
       "<div>\n",
       "<style>\n",
       "    .dataframe thead tr:only-child th {\n",
       "        text-align: right;\n",
       "    }\n",
       "\n",
       "    .dataframe thead th {\n",
       "        text-align: left;\n",
       "    }\n",
       "\n",
       "    .dataframe tbody tr th {\n",
       "        vertical-align: top;\n",
       "    }\n",
       "</style>\n",
       "<table border=\"1\" class=\"dataframe\">\n",
       "  <thead>\n",
       "    <tr style=\"text-align: right;\">\n",
       "      <th></th>\n",
       "      <th>season</th>\n",
       "      <th>gender</th>\n",
       "      <th>line</th>\n",
       "    </tr>\n",
       "  </thead>\n",
       "  <tbody>\n",
       "    <tr>\n",
       "      <th>0</th>\n",
       "      <td>1</td>\n",
       "      <td>female</td>\n",
       "      <td>Fine work, as always. Well done.  Thank you. ...</td>\n",
       "    </tr>\n",
       "    <tr>\n",
       "      <th>1</th>\n",
       "      <td>1</td>\n",
       "      <td>male</td>\n",
       "      <td>What do you expect? They're savages. One lot s...</td>\n",
       "    </tr>\n",
       "    <tr>\n",
       "      <th>2</th>\n",
       "      <td>2</td>\n",
       "      <td>female</td>\n",
       "      <td>It was well struck, Your Grace. Yes, Your Grac...</td>\n",
       "    </tr>\n",
       "    <tr>\n",
       "      <th>3</th>\n",
       "      <td>2</td>\n",
       "      <td>male</td>\n",
       "      <td>Well struck… Well struck, Dog. Did you like th...</td>\n",
       "    </tr>\n",
       "    <tr>\n",
       "      <th>4</th>\n",
       "      <td>3</td>\n",
       "      <td>female</td>\n",
       "      <td>First time you've seen a giant, Jon Snow? Well...</td>\n",
       "    </tr>\n",
       "  </tbody>\n",
       "</table>\n",
       "</div>"
      ],
      "text/plain": [
       "   season  gender                                               line\n",
       "0       1  female   Fine work, as always. Well done.  Thank you. ...\n",
       "1       1    male  What do you expect? They're savages. One lot s...\n",
       "2       2  female  It was well struck, Your Grace. Yes, Your Grac...\n",
       "3       2    male  Well struck… Well struck, Dog. Did you like th...\n",
       "4       3  female  First time you've seen a giant, Jon Snow? Well..."
      ]
     },
     "execution_count": 12,
     "metadata": {},
     "output_type": "execute_result"
    }
   ],
   "source": [
    "season = data.groupby(['season','gender'])['line'].apply(lambda x: ' '.join(x)).reset_index()\n",
    "season.head()"
   ]
  },
  {
   "cell_type": "code",
   "execution_count": 13,
   "metadata": {},
   "outputs": [
    {
     "data": {
      "text/html": [
       "<div>\n",
       "<style>\n",
       "    .dataframe thead tr:only-child th {\n",
       "        text-align: right;\n",
       "    }\n",
       "\n",
       "    .dataframe thead th {\n",
       "        text-align: left;\n",
       "    }\n",
       "\n",
       "    .dataframe tbody tr th {\n",
       "        vertical-align: top;\n",
       "    }\n",
       "</style>\n",
       "<table border=\"1\" class=\"dataframe\">\n",
       "  <thead>\n",
       "    <tr style=\"text-align: right;\">\n",
       "      <th></th>\n",
       "      <th>season</th>\n",
       "      <th>gender</th>\n",
       "      <th>line</th>\n",
       "      <th>polarity</th>\n",
       "      <th>subjectivity</th>\n",
       "    </tr>\n",
       "  </thead>\n",
       "  <tbody>\n",
       "    <tr>\n",
       "      <th>0</th>\n",
       "      <td>1</td>\n",
       "      <td>female</td>\n",
       "      <td>Fine work, as always. Well done.  Thank you. ...</td>\n",
       "      <td>0.080377</td>\n",
       "      <td>0.542940</td>\n",
       "    </tr>\n",
       "    <tr>\n",
       "      <th>1</th>\n",
       "      <td>1</td>\n",
       "      <td>male</td>\n",
       "      <td>What do you expect? They're savages. One lot s...</td>\n",
       "      <td>0.071835</td>\n",
       "      <td>0.516616</td>\n",
       "    </tr>\n",
       "    <tr>\n",
       "      <th>2</th>\n",
       "      <td>2</td>\n",
       "      <td>female</td>\n",
       "      <td>It was well struck, Your Grace. Yes, Your Grac...</td>\n",
       "      <td>0.091241</td>\n",
       "      <td>0.548872</td>\n",
       "    </tr>\n",
       "    <tr>\n",
       "      <th>3</th>\n",
       "      <td>2</td>\n",
       "      <td>male</td>\n",
       "      <td>Well struck… Well struck, Dog. Did you like th...</td>\n",
       "      <td>0.102007</td>\n",
       "      <td>0.522084</td>\n",
       "    </tr>\n",
       "    <tr>\n",
       "      <th>4</th>\n",
       "      <td>3</td>\n",
       "      <td>female</td>\n",
       "      <td>First time you've seen a giant, Jon Snow? Well...</td>\n",
       "      <td>0.136647</td>\n",
       "      <td>0.563371</td>\n",
       "    </tr>\n",
       "    <tr>\n",
       "      <th>5</th>\n",
       "      <td>3</td>\n",
       "      <td>male</td>\n",
       "      <td>Brother? Did you send the ravens? Tarly, look ...</td>\n",
       "      <td>0.087357</td>\n",
       "      <td>0.524007</td>\n",
       "    </tr>\n",
       "    <tr>\n",
       "      <th>6</th>\n",
       "      <td>4</td>\n",
       "      <td>female</td>\n",
       "      <td>Beautiful. But pale. Timid. Timid bores me. Sh...</td>\n",
       "      <td>0.090225</td>\n",
       "      <td>0.546060</td>\n",
       "    </tr>\n",
       "    <tr>\n",
       "      <th>7</th>\n",
       "      <td>4</td>\n",
       "      <td>male</td>\n",
       "      <td>Magnificent. Mm-hmm. Looks fresh-forged. It is...</td>\n",
       "      <td>0.084159</td>\n",
       "      <td>0.514094</td>\n",
       "    </tr>\n",
       "    <tr>\n",
       "      <th>8</th>\n",
       "      <td>5</td>\n",
       "      <td>female</td>\n",
       "      <td>We shouldn’t be out here alone.  Why not?  If...</td>\n",
       "      <td>0.123620</td>\n",
       "      <td>0.554500</td>\n",
       "    </tr>\n",
       "    <tr>\n",
       "      <th>9</th>\n",
       "      <td>5</td>\n",
       "      <td>male</td>\n",
       "      <td>Your grace, we are honored by your presence. ...</td>\n",
       "      <td>0.121507</td>\n",
       "      <td>0.527731</td>\n",
       "    </tr>\n",
       "    <tr>\n",
       "      <th>10</th>\n",
       "      <td>6</td>\n",
       "      <td>female</td>\n",
       "      <td>Ser Davos.  I saw him in the flames, fighting...</td>\n",
       "      <td>0.098741</td>\n",
       "      <td>0.520566</td>\n",
       "    </tr>\n",
       "    <tr>\n",
       "      <th>11</th>\n",
       "      <td>6</td>\n",
       "      <td>male</td>\n",
       "      <td>It’s the Lord Commander!  Help me get him ins...</td>\n",
       "      <td>0.103747</td>\n",
       "      <td>0.510628</td>\n",
       "    </tr>\n",
       "    <tr>\n",
       "      <th>12</th>\n",
       "      <td>7</td>\n",
       "      <td>female</td>\n",
       "      <td>You're wondering why I brought you all here. ...</td>\n",
       "      <td>0.092975</td>\n",
       "      <td>0.529886</td>\n",
       "    </tr>\n",
       "    <tr>\n",
       "      <th>13</th>\n",
       "      <td>7</td>\n",
       "      <td>male</td>\n",
       "      <td>Stand together!  You wildlings?  How do I kno...</td>\n",
       "      <td>0.090579</td>\n",
       "      <td>0.519169</td>\n",
       "    </tr>\n",
       "  </tbody>\n",
       "</table>\n",
       "</div>"
      ],
      "text/plain": [
       "    season  gender                                               line  \\\n",
       "0        1  female   Fine work, as always. Well done.  Thank you. ...   \n",
       "1        1    male  What do you expect? They're savages. One lot s...   \n",
       "2        2  female  It was well struck, Your Grace. Yes, Your Grac...   \n",
       "3        2    male  Well struck… Well struck, Dog. Did you like th...   \n",
       "4        3  female  First time you've seen a giant, Jon Snow? Well...   \n",
       "5        3    male  Brother? Did you send the ravens? Tarly, look ...   \n",
       "6        4  female  Beautiful. But pale. Timid. Timid bores me. Sh...   \n",
       "7        4    male  Magnificent. Mm-hmm. Looks fresh-forged. It is...   \n",
       "8        5  female   We shouldn’t be out here alone.  Why not?  If...   \n",
       "9        5    male   Your grace, we are honored by your presence. ...   \n",
       "10       6  female   Ser Davos.  I saw him in the flames, fighting...   \n",
       "11       6    male   It’s the Lord Commander!  Help me get him ins...   \n",
       "12       7  female   You're wondering why I brought you all here. ...   \n",
       "13       7    male   Stand together!  You wildlings?  How do I kno...   \n",
       "\n",
       "    polarity  subjectivity  \n",
       "0   0.080377      0.542940  \n",
       "1   0.071835      0.516616  \n",
       "2   0.091241      0.548872  \n",
       "3   0.102007      0.522084  \n",
       "4   0.136647      0.563371  \n",
       "5   0.087357      0.524007  \n",
       "6   0.090225      0.546060  \n",
       "7   0.084159      0.514094  \n",
       "8   0.123620      0.554500  \n",
       "9   0.121507      0.527731  \n",
       "10  0.098741      0.520566  \n",
       "11  0.103747      0.510628  \n",
       "12  0.092975      0.529886  \n",
       "13  0.090579      0.519169  "
      ]
     },
     "execution_count": 13,
     "metadata": {},
     "output_type": "execute_result"
    }
   ],
   "source": [
    "season[['polarity', 'subjectivity']] = season['line'].apply(lambda line: pd.Series(TextBlob(line).sentiment))\n",
    "season"
   ]
  },
  {
   "cell_type": "markdown",
   "metadata": {},
   "source": [
    "### Episode Comparison"
   ]
  },
  {
   "cell_type": "code",
   "execution_count": 14,
   "metadata": {},
   "outputs": [
    {
     "data": {
      "text/html": [
       "<div>\n",
       "<style>\n",
       "    .dataframe thead tr:only-child th {\n",
       "        text-align: right;\n",
       "    }\n",
       "\n",
       "    .dataframe thead th {\n",
       "        text-align: left;\n",
       "    }\n",
       "\n",
       "    .dataframe tbody tr th {\n",
       "        vertical-align: top;\n",
       "    }\n",
       "</style>\n",
       "<table border=\"1\" class=\"dataframe\">\n",
       "  <thead>\n",
       "    <tr style=\"text-align: right;\">\n",
       "      <th></th>\n",
       "      <th>episode_no</th>\n",
       "      <th>gender</th>\n",
       "      <th>line</th>\n",
       "    </tr>\n",
       "  </thead>\n",
       "  <tbody>\n",
       "    <tr>\n",
       "      <th>0</th>\n",
       "      <td>1</td>\n",
       "      <td>female</td>\n",
       "      <td>Fine work, as always. Well done.  Thank you. ...</td>\n",
       "    </tr>\n",
       "    <tr>\n",
       "      <th>1</th>\n",
       "      <td>1</td>\n",
       "      <td>male</td>\n",
       "      <td>What do you expect? They're savages. One lot s...</td>\n",
       "    </tr>\n",
       "    <tr>\n",
       "      <th>2</th>\n",
       "      <td>2</td>\n",
       "      <td>female</td>\n",
       "      <td>Isn't there anything else?  Khaleesi!  Your h...</td>\n",
       "    </tr>\n",
       "    <tr>\n",
       "      <th>3</th>\n",
       "      <td>2</td>\n",
       "      <td>male</td>\n",
       "      <td>You need to drink, child... And eat.  The Dot...</td>\n",
       "    </tr>\n",
       "    <tr>\n",
       "      <th>4</th>\n",
       "      <td>3</td>\n",
       "      <td>female</td>\n",
       "      <td>Please, it's nearly healed.  A King should ha...</td>\n",
       "    </tr>\n",
       "  </tbody>\n",
       "</table>\n",
       "</div>"
      ],
      "text/plain": [
       "   episode_no  gender                                               line\n",
       "0           1  female   Fine work, as always. Well done.  Thank you. ...\n",
       "1           1    male  What do you expect? They're savages. One lot s...\n",
       "2           2  female   Isn't there anything else?  Khaleesi!  Your h...\n",
       "3           2    male   You need to drink, child... And eat.  The Dot...\n",
       "4           3  female   Please, it's nearly healed.  A King should ha..."
      ]
     },
     "execution_count": 14,
     "metadata": {},
     "output_type": "execute_result"
    }
   ],
   "source": [
    "episode = data.groupby(['episode_no','gender'])['line'].apply(lambda x: ' '.join(x)).reset_index()\n",
    "episode.head()"
   ]
  },
  {
   "cell_type": "code",
   "execution_count": 15,
   "metadata": {
    "collapsed": true
   },
   "outputs": [],
   "source": [
    "episode[['polarity', 'subjectivity']] = episode['line'].apply(lambda line: pd.Series(TextBlob(line).sentiment))"
   ]
  },
  {
   "cell_type": "code",
   "execution_count": 16,
   "metadata": {
    "collapsed": true
   },
   "outputs": [],
   "source": [
    "# gender.to_csv('../data/sentiment_gender.csv',index=False)\n",
    "# season.to_csv('../data/sentiment_season.csv',index=False)\n",
    "# episode.to_csv('../data/sentiment_episode.csv',index=False)"
   ]
  },
  {
   "cell_type": "markdown",
   "metadata": {},
   "source": [
    "### Gender Comparison: Creator Perspective"
   ]
  },
  {
   "cell_type": "markdown",
   "metadata": {},
   "source": [
    "s02e04, s02e06, s03e02 were written by a <b>female</b> writer.\n",
    "<br>\n",
    "The rest were written by <b>male</b> writers. \n",
    "<br>\n",
    "s05e04, s06e02, s07e05 were written by a <b>male</b> writer -- these were the only episodes he wrote for. Fair comparison, perhaps!"
   ]
  },
  {
   "cell_type": "code",
   "execution_count": 17,
   "metadata": {
    "collapsed": true
   },
   "outputs": [],
   "source": [
    "f_writer = data[(data.season_episode == 's02e04') | (data.season_episode == 's02e06') | (data.season_episode == 's03e02')]\n",
    "m_writer = data[(data.season_episode == 's05e04') | (data.season_episode == 's06e02') | (data.season_episode == 's07e05')]\n",
    "\n",
    "f_writer = f_writer.groupby(['gender'])['line'].apply(lambda x: ' '.join(x)).reset_index()\n",
    "m_writer = m_writer.groupby(['gender'])['line'].apply(lambda x: ' '.join(x)).reset_index()"
   ]
  },
  {
   "cell_type": "code",
   "execution_count": 18,
   "metadata": {},
   "outputs": [
    {
     "data": {
      "text/html": [
       "<div>\n",
       "<style>\n",
       "    .dataframe thead tr:only-child th {\n",
       "        text-align: right;\n",
       "    }\n",
       "\n",
       "    .dataframe thead th {\n",
       "        text-align: left;\n",
       "    }\n",
       "\n",
       "    .dataframe tbody tr th {\n",
       "        vertical-align: top;\n",
       "    }\n",
       "</style>\n",
       "<table border=\"1\" class=\"dataframe\">\n",
       "  <thead>\n",
       "    <tr style=\"text-align: right;\">\n",
       "      <th></th>\n",
       "      <th>gender</th>\n",
       "      <th>line</th>\n",
       "      <th>polarity</th>\n",
       "      <th>subjectivity</th>\n",
       "    </tr>\n",
       "  </thead>\n",
       "  <tbody>\n",
       "    <tr>\n",
       "      <th>0</th>\n",
       "      <td>female</td>\n",
       "      <td>The rot's set in. Shh. The rot will spread. If...</td>\n",
       "      <td>0.121766</td>\n",
       "      <td>0.606500</td>\n",
       "    </tr>\n",
       "    <tr>\n",
       "      <th>1</th>\n",
       "      <td>male</td>\n",
       "      <td>It's got to be the Mountain. He's the biggest....</td>\n",
       "      <td>0.078626</td>\n",
       "      <td>0.523495</td>\n",
       "    </tr>\n",
       "  </tbody>\n",
       "</table>\n",
       "</div>"
      ],
      "text/plain": [
       "   gender                                               line  polarity  \\\n",
       "0  female  The rot's set in. Shh. The rot will spread. If...  0.121766   \n",
       "1    male  It's got to be the Mountain. He's the biggest....  0.078626   \n",
       "\n",
       "   subjectivity  \n",
       "0      0.606500  \n",
       "1      0.523495  "
      ]
     },
     "execution_count": 18,
     "metadata": {},
     "output_type": "execute_result"
    }
   ],
   "source": [
    "f_writer[['polarity', 'subjectivity']] = f_writer['line'].apply(lambda line: pd.Series(TextBlob(line).sentiment))\n",
    "f_writer"
   ]
  },
  {
   "cell_type": "code",
   "execution_count": 19,
   "metadata": {},
   "outputs": [
    {
     "data": {
      "text/html": [
       "<div>\n",
       "<style>\n",
       "    .dataframe thead tr:only-child th {\n",
       "        text-align: right;\n",
       "    }\n",
       "\n",
       "    .dataframe thead th {\n",
       "        text-align: left;\n",
       "    }\n",
       "\n",
       "    .dataframe tbody tr th {\n",
       "        vertical-align: top;\n",
       "    }\n",
       "</style>\n",
       "<table border=\"1\" class=\"dataframe\">\n",
       "  <thead>\n",
       "    <tr style=\"text-align: right;\">\n",
       "      <th></th>\n",
       "      <th>gender</th>\n",
       "      <th>line</th>\n",
       "      <th>polarity</th>\n",
       "      <th>subjectivity</th>\n",
       "    </tr>\n",
       "  </thead>\n",
       "  <tbody>\n",
       "    <tr>\n",
       "      <th>0</th>\n",
       "      <td>female</td>\n",
       "      <td>How much can the Crown afford?  You're the Ma...</td>\n",
       "      <td>0.142752</td>\n",
       "      <td>0.566826</td>\n",
       "    </tr>\n",
       "    <tr>\n",
       "      <th>1</th>\n",
       "      <td>male</td>\n",
       "      <td>Is that Estermont?  Tarth, Ser Jaime. . The S...</td>\n",
       "      <td>0.071528</td>\n",
       "      <td>0.493794</td>\n",
       "    </tr>\n",
       "  </tbody>\n",
       "</table>\n",
       "</div>"
      ],
      "text/plain": [
       "   gender                                               line  polarity  \\\n",
       "0  female   How much can the Crown afford?  You're the Ma...  0.142752   \n",
       "1    male   Is that Estermont?  Tarth, Ser Jaime. . The S...  0.071528   \n",
       "\n",
       "   subjectivity  \n",
       "0      0.566826  \n",
       "1      0.493794  "
      ]
     },
     "execution_count": 19,
     "metadata": {},
     "output_type": "execute_result"
    }
   ],
   "source": [
    "m_writer[['polarity', 'subjectivity']] = m_writer['line'].apply(lambda line: pd.Series(TextBlob(line).sentiment))\n",
    "m_writer"
   ]
  },
  {
   "cell_type": "code",
   "execution_count": null,
   "metadata": {
    "collapsed": true
   },
   "outputs": [],
   "source": []
  }
 ],
 "metadata": {
  "kernelspec": {
   "display_name": "Python 3",
   "language": "python",
   "name": "python3"
  },
  "language_info": {
   "codemirror_mode": {
    "name": "ipython",
    "version": 3
   },
   "file_extension": ".py",
   "mimetype": "text/x-python",
   "name": "python",
   "nbconvert_exporter": "python",
   "pygments_lexer": "ipython3",
   "version": "3.6.1"
  }
 },
 "nbformat": 4,
 "nbformat_minor": 2
}
